{
 "cells": [
  {
   "cell_type": "markdown",
   "id": "skilled-constraint",
   "metadata": {},
   "source": [
    "# Logistic Regression on SMOTE data"
   ]
  },
  {
   "cell_type": "code",
   "execution_count": 1,
   "id": "willing-research",
   "metadata": {},
   "outputs": [],
   "source": [
    "import pandas as pd\n",
    "import numpy as np\n",
    "import datetime\n",
    "import seaborn as sns\n",
    "import matplotlib.pyplot as plt\n",
    "import dash\n",
    "import plotly.express as px\n",
    "import tensorflow as tf\n",
    "import sys  \n",
    "sys.path.insert(0, '../')\n",
    "import common_functions\n",
    "import common_plotting_functions\n",
    "\n",
    "from sklearn.model_selection import StratifiedKFold, cross_validate\n",
    "from sklearn.compose import ColumnTransformer\n",
    "from sklearn.preprocessing import Normalizer, StandardScaler\n",
    "from sklearn.linear_model import LogisticRegression\n",
    "from sklearn.pipeline import Pipeline\n",
    "from sklearn.base import BaseEstimator, ClassifierMixin"
   ]
  },
  {
   "cell_type": "code",
   "execution_count": 2,
   "id": "specialized-reggae",
   "metadata": {},
   "outputs": [],
   "source": [
    "# Fix random seed for reproductibility\n",
    "seed = 42\n",
    "np.random.seed(seed)\n",
    "tf.random.set_seed(seed)"
   ]
  },
  {
   "cell_type": "markdown",
   "id": "japanese-bibliography",
   "metadata": {},
   "source": [
    "## Data"
   ]
  },
  {
   "cell_type": "code",
   "execution_count": 3,
   "id": "innocent-adjustment",
   "metadata": {},
   "outputs": [],
   "source": [
    "# Read data using pandas\n",
    "X_train = pd.read_csv('../Datasets/bin_classif_smote_baseline_x_train.csv')\n",
    "df_y_train = pd.read_csv('../Datasets/bin_classif_smote_baseline_y_train.csv')\n",
    "X_dev = pd.read_csv('../Datasets/X_dev.csv')\n",
    "df_y_dev = pd.read_csv('../Datasets/y_dev.csv')\n",
    "X_test = pd.read_csv('../Datasets/X_test.csv')\n",
    "df_y_test = pd.read_csv('../Datasets/y_test.csv')"
   ]
  },
  {
   "cell_type": "code",
   "execution_count": 4,
   "id": "plain-growing",
   "metadata": {},
   "outputs": [],
   "source": [
    "# Transform target df into ndarray\n",
    "y_train= df_y_train.values.ravel()\n",
    "y_dev = df_y_dev.values.ravel()\n",
    "y_test = df_y_test.values.ravel()"
   ]
  },
  {
   "cell_type": "code",
   "execution_count": 5,
   "id": "ordinary-victory",
   "metadata": {},
   "outputs": [],
   "source": [
    "# Manually select desired features\n",
    "columns_to_drop = ['sosfhi', 'sosfhf', 'sos20rs', 'mpa']\n",
    "X_dev = X_dev.drop(columns=columns_to_drop)\n",
    "X_test = X_test.drop(columns=columns_to_drop)"
   ]
  },
  {
   "cell_type": "code",
   "execution_count": 6,
   "id": "clinical-collective",
   "metadata": {},
   "outputs": [],
   "source": [
    "# Compute X_traindev and y_traindev\n",
    "X_traindev = pd.concat([X_train, X_dev])\n",
    "X_traindev.reset_index(inplace=True, drop=True)\n",
    "y_traindev = np.concatenate((y_train, y_dev), axis=0)"
   ]
  },
  {
   "cell_type": "markdown",
   "id": "civil-broadway",
   "metadata": {},
   "source": [
    "## Utils"
   ]
  },
  {
   "cell_type": "code",
   "execution_count": 7,
   "id": "demonstrated-equivalent",
   "metadata": {},
   "outputs": [],
   "source": [
    "# Function to create a model with a cutoff point and a preprocessor\n",
    "def create_model(cutoff, preprocessor):\n",
    "    # Create the classifier\n",
    "    lr = LRWithCustomThreshold(cutoff=cutoff)\n",
    "    # Create the normalization pipeline\n",
    "    pipeline = Pipeline([(\"preprocess\", preprocessor), (\"lr\", lr)])\n",
    "    return pipeline"
   ]
  },
  {
   "cell_type": "code",
   "execution_count": 8,
   "id": "developmental-referral",
   "metadata": {},
   "outputs": [],
   "source": [
    "# Function for stratified 5-fold cv with different cut-off points and preprocesor \n",
    "def cross_validate_for_thresholds_with_preprocessor(thresholds, preprocessor, X, y):\n",
    "    for threshold in thresholds:\n",
    "        model = create_model(threshold, preprocessor)\n",
    "        # Perform the cross validation\n",
    "        # Use Stratified KFold for cross_validation splitting\n",
    "        results = common_functions.perform_cross_validation(model, X, y)\n",
    "        # Print mean results\n",
    "        print('---------------------------------', threshold)\n",
    "        common_functions.print_cv_metrics(results)"
   ]
  },
  {
   "cell_type": "code",
   "execution_count": 9,
   "id": "relevant-remains",
   "metadata": {},
   "outputs": [],
   "source": [
    "# Custom cross validation\n",
    "def custom_cross_validate(X_full, y_full):\n",
    "    skf = StratifiedKFold(n_splits=5, shuffle=True, random_state=seed)\n",
    "    for train, test in skf.split(X_full, y_full): \n",
    "        model = create_model(cutoff, preprocessor_standard_scaling)\n",
    "        model.fit(X_full.iloc[train], y_full[train])\n",
    "\n",
    "        # Predict on the validation split\n",
    "        predictions = model.predict(X_full.iloc[test])\n",
    "        predictions = predictions.reshape(predictions.shape[0])\n",
    "        common_functions.evaluate_performance(y_full[test] == 1, predictions == 1)  "
   ]
  },
  {
   "cell_type": "markdown",
   "id": "judicial-school",
   "metadata": {},
   "source": [
    "### Default model"
   ]
  },
  {
   "cell_type": "code",
   "execution_count": 10,
   "id": "polished-editor",
   "metadata": {},
   "outputs": [],
   "source": [
    "# Custom model based on logistic regression with a specified cut-off point\n",
    "class LRWithCustomThreshold(BaseEstimator, ClassifierMixin):\n",
    "    def __init__(self, cutoff):\n",
    "        self.cutoff=cutoff\n",
    "        self.lr = LogisticRegression(class_weight='balanced')\n",
    "    \n",
    "    def fit(self, X, y=None):\n",
    "        self.lr.fit(X, y)\n",
    "    \n",
    "    def predict(self, X, y=None):\n",
    "        predictions_as_probabilities = self.lr.predict_proba(X)\n",
    "        return np.where(predictions_as_probabilities[:,1] > self.cutoff, 1, 0)\n",
    "    \n",
    "    def predict_proba(self, X, y=None, with_tree=False):\n",
    "        return self.lr.predict_proba(X)"
   ]
  },
  {
   "cell_type": "code",
   "execution_count": 11,
   "id": "finite-premium",
   "metadata": {},
   "outputs": [],
   "source": [
    "# Create the preprocessors\n",
    "selected_features = X_traindev.columns\n",
    "preprocessor_normalization = ColumnTransformer([\n",
    "        (\"normalize\", Normalizer(), selected_features)],\n",
    "        remainder=\"drop\")\n",
    "\n",
    "preprocessor_standard_scaling = ColumnTransformer([\n",
    "        (\"scale\", StandardScaler(), selected_features)],\n",
    "        remainder=\"drop\")"
   ]
  },
  {
   "cell_type": "code",
   "execution_count": 12,
   "id": "modified-novelty",
   "metadata": {},
   "outputs": [],
   "source": [
    "# Define a set of thresholds (to be used as cut-off points) to experiment with\n",
    "thresholds = [0.5, 0.6, 0.7, 0.8, 0.9]"
   ]
  },
  {
   "cell_type": "markdown",
   "id": "shaped-graham",
   "metadata": {},
   "source": [
    "#### After normalization"
   ]
  },
  {
   "cell_type": "code",
   "execution_count": 13,
   "id": "greater-elimination",
   "metadata": {},
   "outputs": [
    {
     "name": "stdout",
     "output_type": "stream",
     "text": [
      "--------------------------------- 0.5\n",
      "---TRAIN---\n",
      "Mean recall:  0.90632088890393\n",
      "Mean precision:  0.44705459542466813\n",
      "Mean accuracy:  0.85019833742122\n",
      "Mean F1:  0.5987567041294133\n",
      "---TEST---\n",
      "Mean recall:  0.90575793745524\n",
      "Mean precision:  0.44676575376428407\n",
      "Mean accuracy:  0.8499547656643415\n",
      "Mean F1:  0.5982848012310326\n",
      "--------------------------------- 0.6\n",
      "---TRAIN---\n",
      "Mean recall:  0.8247740264549055\n",
      "Mean precision:  0.4793907377159671\n",
      "Mean accuracy:  0.8679274717185136\n",
      "Mean F1:  0.6063425060915846\n",
      "---TEST---\n",
      "Mean recall:  0.8250497334288216\n",
      "Mean precision:  0.48127031676880777\n",
      "Mean accuracy:  0.8686060388504206\n",
      "Mean F1:  0.6077781540319036\n",
      "--------------------------------- 0.7\n",
      "---TRAIN---\n",
      "Mean recall:  0.7248871003222008\n",
      "Mean precision:  0.5081308727186675\n",
      "Mean accuracy:  0.8795323478817301\n",
      "Mean F1:  0.597453070118395\n",
      "---TEST---\n",
      "Mean recall:  0.7240455160340573\n",
      "Mean precision:  0.5082769741239564\n",
      "Mean accuracy:  0.8793237787758802\n",
      "Mean F1:  0.597053419122749\n",
      "--------------------------------- 0.8\n",
      "---TRAIN---\n",
      "Mean recall:  0.5479687016313095\n",
      "Mean precision:  0.5227505140857699\n",
      "Mean accuracy:  0.8825596981290161\n",
      "Mean F1:  0.535059456328738\n",
      "---TEST---\n",
      "Mean recall:  0.5468624174425082\n",
      "Mean precision:  0.5225686835491523\n",
      "Mean accuracy:  0.8823164388236794\n",
      "Mean F1:  0.5340886889788344\n",
      "--------------------------------- 0.9\n",
      "---TRAIN---\n",
      "Mean recall:  0.355813002101223\n",
      "Mean precision:  0.553314946561527\n",
      "Mean accuracy:  0.8851346898881636\n",
      "Mean F1:  0.4331092765458938\n",
      "---TEST---\n",
      "Mean recall:  0.356673828280417\n",
      "Mean precision:  0.5565876910087584\n",
      "Mean accuracy:  0.8853785429626878\n",
      "Mean F1:  0.4343576327640527\n"
     ]
    }
   ],
   "source": [
    "# Cross validation for pipeline with normalization for different thresholds\n",
    "cross_validate_for_thresholds_with_preprocessor(thresholds, preprocessor_normalization, X_traindev, y_traindev)"
   ]
  },
  {
   "cell_type": "markdown",
   "id": "foster-ghana",
   "metadata": {},
   "source": [
    "#### After standard scaling"
   ]
  },
  {
   "cell_type": "code",
   "execution_count": 14,
   "id": "intended-centre",
   "metadata": {},
   "outputs": [
    {
     "name": "stdout",
     "output_type": "stream",
     "text": [
      "--------------------------------- 0.5\n",
      "---TRAIN---\n",
      "Mean recall:  0.9030749920619359\n",
      "Mean precision:  0.6726049813741819\n",
      "Mean accuracy:  0.9338332783943157\n",
      "Mean F1:  0.770978380877461\n",
      "---TEST---\n",
      "Mean recall:  0.9034980504495902\n",
      "Mean precision:  0.6704197672476818\n",
      "Mean accuracy:  0.9331899883274826\n",
      "Mean F1:  0.7695074764971379\n",
      "--------------------------------- 0.6\n",
      "---TRAIN---\n",
      "Mean recall:  0.868651365197735\n",
      "Mean precision:  0.7040756476417747\n",
      "Mean accuracy:  0.938774472456785\n",
      "Mean F1:  0.7777488957739046\n",
      "---TEST---\n",
      "Mean recall:  0.8679525742022758\n",
      "Mean precision:  0.7046818561069392\n",
      "Mean accuracy:  0.9387574085606374\n",
      "Mean F1:  0.7776711040320494\n",
      "--------------------------------- 0.7\n",
      "---TRAIN---\n",
      "Mean recall:  0.824633380878771\n",
      "Mean precision:  0.7333780480255758\n",
      "Mean accuracy:  0.941401636607608\n",
      "Mean F1:  0.7763327083385078\n",
      "---TEST---\n",
      "Mean recall:  0.8250672395957668\n",
      "Mean precision:  0.7351254283516131\n",
      "Mean accuracy:  0.9416801400798981\n",
      "Mean F1:  0.7772911170963475\n",
      "--------------------------------- 0.8\n",
      "---TRAIN---\n",
      "Mean recall:  0.7746903657282663\n",
      "Mean precision:  0.7570721112542568\n",
      "Mean accuracy:  0.9415582339966274\n",
      "Mean F1:  0.7657785709791936\n",
      "---TEST---\n",
      "Mean recall:  0.7737168775364048\n",
      "Mean precision:  0.7576092755718087\n",
      "Mean accuracy:  0.9414714687001409\n",
      "Mean F1:  0.7653789385612766\n",
      "--------------------------------- 0.9\n",
      "---TRAIN---\n",
      "Mean recall:  0.7172690471237333\n",
      "Mean precision:  0.7825275907782198\n",
      "Mean accuracy:  0.9405491116981363\n",
      "Mean F1:  0.7484758701261567\n",
      "---TEST---\n",
      "Mean recall:  0.717832418238243\n",
      "Mean precision:  0.781633992330892\n",
      "Mean accuracy:  0.9404274093672257\n",
      "Mean F1:  0.748275009897282\n"
     ]
    }
   ],
   "source": [
    "# Cross validation for pipeline with standard scaling\n",
    "cross_validate_for_thresholds_with_preprocessor(thresholds, preprocessor_standard_scaling, X_traindev, y_traindev)"
   ]
  },
  {
   "cell_type": "markdown",
   "id": "assigned-property",
   "metadata": {},
   "source": [
    "### Train and test"
   ]
  },
  {
   "cell_type": "code",
   "execution_count": 15,
   "id": "moral-clinton",
   "metadata": {},
   "outputs": [],
   "source": [
    "# Select the cutoff point\n",
    "cutoff = 0.6"
   ]
  },
  {
   "cell_type": "code",
   "execution_count": 16,
   "id": "dying-stage",
   "metadata": {},
   "outputs": [],
   "source": [
    "# Initialize model\n",
    "model = create_model(cutoff, preprocessor_standard_scaling)\n",
    "# Fit the best performing pipeline, as it has not been fit yet (only cross-validated)\n",
    "model.fit(X_traindev, y_traindev)\n",
    "# Use the model to predict probabilities (i.e. the actual value) instead of the label\n",
    "y_predicted = model.predict(X_test)"
   ]
  },
  {
   "cell_type": "code",
   "execution_count": 17,
   "id": "experienced-syntax",
   "metadata": {},
   "outputs": [
    {
     "data": {
      "image/png": "[encoded data removed]",
      "text/plain": [
       "<Figure size 288x288 with 2 Axes>"
      ]
     },
     "metadata": {
      "needs_background": "light"
     },
     "output_type": "display_data"
    },
    {
     "name": "stdout",
     "output_type": "stream",
     "text": [
      "Accuracy:  0.9528785085023561\n",
      "Recall:  0.9090909090909091\n",
      "Precision:  0.11673151750972763\n",
      "F1 score:  0.20689655172413796\n",
      "Specificity:  0.9531765676567657\n"
     ]
    },
    {
     "data": {
      "text/plain": [
       "(0.9528785085023561, 0.9090909090909091, 0.11673151750972763)"
      ]
     },
     "execution_count": 17,
     "metadata": {},
     "output_type": "execute_result"
    }
   ],
   "source": [
    "# Display confusion matrix and evaluation metrices\n",
    "common_functions.evaluate_performance(y_test, y_predicted)"
   ]
  },
  {
   "cell_type": "markdown",
   "id": "dated-consistency",
   "metadata": {},
   "source": [
    "#### Cross validation on the entire dataset available"
   ]
  },
  {
   "cell_type": "code",
   "execution_count": 18,
   "id": "activated-rainbow",
   "metadata": {},
   "outputs": [],
   "source": [
    "# Create the full dataset by adding all the samples together\n",
    "X_full = pd.concat([X_traindev, X_test])\n",
    "y_full = np.concatenate((y_traindev, y_test), axis=0)"
   ]
  },
  {
   "cell_type": "code",
   "execution_count": 19,
   "id": "dying-multimedia",
   "metadata": {},
   "outputs": [
    {
     "name": "stdout",
     "output_type": "stream",
     "text": [
      "--------------------------------- 0.6\n",
      "---TRAIN---\n",
      "Mean recall:  0.8713296398891966\n",
      "Mean precision:  0.6416936777589985\n",
      "Mean accuracy:  0.9423116883116883\n",
      "Mean F1:  0.7390815413004957\n",
      "---TEST---\n",
      "Mean recall:  0.8692520775623269\n",
      "Mean precision:  0.6423440956825077\n",
      "Mean accuracy:  0.9421818181818182\n",
      "Mean F1:  0.738477263355075\n"
     ]
    }
   ],
   "source": [
    "# Cross validation the best model so far using the entire dataset\n",
    "cross_validate_for_thresholds_with_preprocessor([cutoff], preprocessor_standard_scaling, X_full, y_full)"
   ]
  },
  {
   "cell_type": "code",
   "execution_count": 20,
   "id": "potential-junior",
   "metadata": {},
   "outputs": [
    {
     "data": {
      "image/png": "[encoded data removed]",
      "text/plain": [
       "<Figure size 288x288 with 2 Axes>"
      ]
     },
     "metadata": {
      "needs_background": "light"
     },
     "output_type": "display_data"
    },
    {
     "name": "stdout",
     "output_type": "stream",
     "text": [
      "Accuracy:  0.9425974025974025\n",
      "Recall:  0.8725761772853186\n",
      "Precision:  0.6428571428571429\n",
      "F1 score:  0.7403055229142187\n",
      "Specificity:  0.9498423617082259\n"
     ]
    },
    {
     "data": {
      "image/png": "[encoded data removed]",
      "text/plain": [
       "<Figure size 288x288 with 2 Axes>"
      ]
     },
     "metadata": {
      "needs_background": "light"
     },
     "output_type": "display_data"
    },
    {
     "name": "stdout",
     "output_type": "stream",
     "text": [
      "Accuracy:  0.9420779220779221\n",
      "Recall:  0.8725761772853186\n",
      "Precision:  0.6402439024390244\n",
      "F1 score:  0.738569753810082\n",
      "Specificity:  0.9492691315563199\n"
     ]
    },
    {
     "data": {
      "image/png": "[encoded data removed]",
      "text/plain": [
       "<Figure size 288x288 with 2 Axes>"
      ]
     },
     "metadata": {
      "needs_background": "light"
     },
     "output_type": "display_data"
    },
    {
     "name": "stdout",
     "output_type": "stream",
     "text": [
      "Accuracy:  0.9446753246753247\n",
      "Recall:  0.8919667590027701\n",
      "Precision:  0.6491935483870968\n",
      "F1 score:  0.7514585764294048\n",
      "Specificity:  0.9501289767841788\n"
     ]
    },
    {
     "data": {
      "image/png": "[encoded data removed]",
      "text/plain": [
       "<Figure size 288x288 with 2 Axes>"
      ]
     },
     "metadata": {
      "needs_background": "light"
     },
     "output_type": "display_data"
    },
    {
     "name": "stdout",
     "output_type": "stream",
     "text": [
      "Accuracy:  0.9392207792207792\n",
      "Recall:  0.8337950138504155\n",
      "Precision:  0.6336842105263157\n",
      "F1 score:  0.7200956937799041\n",
      "Specificity:  0.9501289767841788\n"
     ]
    },
    {
     "data": {
      "image/png": "[encoded data removed]",
      "text/plain": [
       "<Figure size 288x288 with 2 Axes>"
      ]
     },
     "metadata": {
      "needs_background": "light"
     },
     "output_type": "display_data"
    },
    {
     "name": "stdout",
     "output_type": "stream",
     "text": [
      "Accuracy:  0.9444155844155844\n",
      "Recall:  0.8864265927977839\n",
      "Precision:  0.6490872210953347\n",
      "F1 score:  0.7494145199063231\n",
      "Specificity:  0.9504155918601318\n"
     ]
    }
   ],
   "source": [
    "# Look at the confusion matrices per folds\n",
    "custom_cross_validate(X_full, y_full)"
   ]
  }
 ],
 "metadata": {
  "kernelspec": {
   "display_name": "Python 3",
   "language": "python",
   "name": "python3"
  },
  "language_info": {
   "codemirror_mode": {
    "name": "ipython",
    "version": 3
   },
   "file_extension": ".py",
   "mimetype": "text/x-python",
   "name": "python",
   "nbconvert_exporter": "python",
   "pygments_lexer": "ipython3",
   "version": "3.8.5"
  }
 },
 "nbformat": 4,
 "nbformat_minor": 5
}
